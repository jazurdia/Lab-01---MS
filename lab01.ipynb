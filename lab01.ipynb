{
 "cells": [
  {
   "cell_type": "markdown",
   "metadata": {},
   "source": [
    "# Ejercicio 01"
   ]
  },
  {
   "cell_type": "markdown",
   "metadata": {},
   "source": [
    "**1. ¿En qué se diferencian los algoritmos de optimización genéticos y los de enjambre de partículas?**\n",
    "\n",
    "Los algoritmos genéticos (GA) y los de enjambre de partículas (PSO) son técnicas de optimización, pero se diferencian en su enfoque. GA se inspira en la evolución natural y usa operadores como selección, cruce y mutación en una población de soluciones discretas. PSO, basado en el comportamiento social de enjambres, mueve partículas en un espacio continuo ajustando sus velocidades según su experiencia y la del enjambre. Mientras GA evoluciona generaciones de soluciones, PSO coordina el movimiento cooperativo de partículas hacia la mejor solución."
   ]
  }
 ],
 "metadata": {
  "language_info": {
   "name": "python"
  }
 },
 "nbformat": 4,
 "nbformat_minor": 2
}
