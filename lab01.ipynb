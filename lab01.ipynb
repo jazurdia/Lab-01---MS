{
 "cells": [
  {
   "cell_type": "markdown",
   "metadata": {},
   "source": [
    "# Ejercicio 01"
   ]
  },
  {
   "cell_type": "markdown",
   "metadata": {},
   "source": [
    "**1. ¿En qué se diferencian los algoritmos de optimización genéticos y los de enjambre de partículas?**\n",
    "\n",
    "Los algoritmos genéticos (GA) y los de enjambre de partículas (PSO) son técnicas de optimización, pero se diferencian en su enfoque. GA se inspira en la evolución natural y usa operadores como selección, cruce y mutación en una población de soluciones discretas. PSO, basado en el comportamiento social de enjambres, mueve partículas en un espacio continuo ajustando sus velocidades según su experiencia y la del enjambre. Mientras GA evoluciona generaciones de soluciones, PSO coordina el movimiento cooperativo de partículas hacia la mejor solución."
   ]
  },
  {
   "cell_type": "markdown",
   "metadata": {},
   "source": [
    "**2. ¿En qué parte de los algoritmos de enjambre de partículas se considera la “exploración” y “explotación”?**\n",
    "\n",
    "En los algoritmos de enjambre de partículas (PSO), la \"exploración\" se realiza mediante el componente aleatorio y la influencia del mejor global (global best), permitiendo a las partículas buscar nuevas áreas del espacio de búsqueda. La \"explotación\" se logra mediante el componente de la mejor posición personal (personal best) de cada partícula, haciendo que las partículas se concentren alrededor de las mejores soluciones encontradas. Esto equilibra la búsqueda de nuevas soluciones y la mejora de las existentes."
   ]
  },
  {
   "cell_type": "markdown",
   "metadata": {},
   "source": [
    "**3. ¿Se pueden paralelizar los algoritmos de enjambre de partículas?**\n",
    "\n",
    "Sí, los algoritmos de enjambre de partículas (PSO) se pueden paralelizar. Esto, dado que la actualización de la posición y la velocidad de cada partícula es independiente de las demás. Es decir, estas operaciones se pueden realizar simultáneamente en múltiples procesadores o núcleos. "
   ]
  },
  {
   "cell_type": "markdown",
   "metadata": {},
   "source": [
    "# Ejercicio 2"
   ]
  }
 ],
 "metadata": {
  "language_info": {
   "name": "python"
  }
 },
 "nbformat": 4,
 "nbformat_minor": 2
}
